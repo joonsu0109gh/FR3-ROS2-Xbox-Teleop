{
 "cells": [
  {
   "cell_type": "code",
   "execution_count": 3,
   "id": "e908d82f",
   "metadata": {},
   "outputs": [
    {
     "name": "stdout",
     "output_type": "stream",
     "text": [
      "Euler angles (degrees): [-156.17710051  -88.51072196 -111.4168304 ]\n"
     ]
    }
   ],
   "source": [
    "\n",
    "# get euler angle from quaternion (x=0.514, y=-0.498, z=0.507, w=0.481) using scipy\n",
    "from scipy.spatial.transform import Rotation as R\n",
    "\n",
    "import numpy as np\n",
    "\n",
    "def quaternion_to_euler(q):\n",
    "    r = R.from_quat([q[0], q[1], q[2], q[3]])\n",
    "    return r.as_euler('xyz', degrees=True)\n",
    "\n",
    "# Example quaternion\n",
    "quaternion = [0.514, -0.498, 0.507, 0.481]\n",
    "euler_angles = quaternion_to_euler(quaternion)\n",
    "print(\"Euler angles (degrees):\", euler_angles)"
   ]
  },
  {
   "cell_type": "code",
   "execution_count": 7,
   "id": "6ce7936c",
   "metadata": {},
   "outputs": [
    {
     "data": {
      "text/plain": [
       "torch.Size([1, 64, 14])"
      ]
     },
     "execution_count": 7,
     "metadata": {},
     "output_type": "execute_result"
    }
   ],
   "source": [
    "data_path = \"/home/rvi/SDG_planning/real_setup/results_data_dict.pickle\"\n",
    "\n",
    "import pickle\n",
    "\n",
    "# Load the data from the pickle file\n",
    "with open(data_path, 'rb') as f:\n",
    "    success_data_dict = pickle.load(f)\n",
    "\n",
    "# Extract the target joint positions\n",
    "success_data_dict[\"trajs_final_free\"].shape\n"
   ]
  },
  {
   "cell_type": "code",
   "execution_count": 11,
   "id": "3a8f7d75",
   "metadata": {},
   "outputs": [
    {
     "data": {
      "text/plain": [
       "torch.Size([64, 7])"
      ]
     },
     "execution_count": 11,
     "metadata": {},
     "output_type": "execute_result"
    }
   ],
   "source": [
    "data_path = \"/home/rvi/SDG_planning/real_setup/success_data_dict_SGD.pickle\"\n",
    "\n",
    "import pickle\n",
    "import numpy\n",
    "\n",
    "# Load the data from the pickle file\n",
    "with open(data_path, 'rb') as f:\n",
    "    success_data_dict = pickle.load(f)\n",
    "\n",
    "# Extract the target joint positions\n",
    "success_data_dict[\"isaac_best_trajs\"][:, :7].shape\n"
   ]
  },
  {
   "cell_type": "code",
   "execution_count": null,
   "id": "2a17fe57",
   "metadata": {},
   "outputs": [],
   "source": []
  }
 ],
 "metadata": {
  "kernelspec": {
   "display_name": "franka",
   "language": "python",
   "name": "python3"
  },
  "language_info": {
   "codemirror_mode": {
    "name": "ipython",
    "version": 3
   },
   "file_extension": ".py",
   "mimetype": "text/x-python",
   "name": "python",
   "nbconvert_exporter": "python",
   "pygments_lexer": "ipython3",
   "version": "3.10.18"
  }
 },
 "nbformat": 4,
 "nbformat_minor": 5
}
